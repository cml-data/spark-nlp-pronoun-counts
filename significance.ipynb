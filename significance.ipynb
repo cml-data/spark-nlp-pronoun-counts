{
 "cells": [
  {
   "cell_type": "code",
   "id": "initial_id",
   "metadata": {
    "collapsed": true,
    "ExecuteTime": {
     "end_time": "2024-07-23T01:48:49.452455Z",
     "start_time": "2024-07-23T01:48:49.001476Z"
    }
   },
   "source": "from scipy.stats import ttest_ind",
   "outputs": [],
   "execution_count": 1
  },
  {
   "metadata": {
    "ExecuteTime": {
     "end_time": "2024-07-25T20:49:50.274005Z",
     "start_time": "2024-07-25T20:49:50.263925Z"
    }
   },
   "cell_type": "code",
   "source": [
    "import scipy.stats as stats\n",
    "\n",
    "# Feminine vs Masculine Subject Pronouns in Dune\n",
    "print(stats.chisquare([1490, 2655], f_exp=[2072.5, 2072.5]))\n",
    "# Feminine vs Masculine Object Pronouns in Dune\n",
    "print(stats.chisquare([190, 950], f_exp=[570, 570]))\n",
    "# Feminine vs Masculine Possessive Pronouns in Dune\n",
    "print(stats.chisquare([963, 2250], f_exp=[1606.5, 1606.5]))\n",
    "# Feminine vs Masculine Subject Pronouns in Parable of the Sower\n",
    "print(stats.chisquare([615, 1023], f_exp=[819, 819]))\n",
    "# Feminine vs Masculine Object Pronouns in Parable of the Sower \n",
    "print(stats.chisquare([137, 408], f_exp=[272.5, 272.5]))\n",
    "# Feminine vs Masculine Pronouns in Pronouns in Parable of the Sower \n",
    "print(stats.chisquare([370, 452], f_exp=[411, 411]))"
   ],
   "id": "3a0f86274959f95c",
   "outputs": [
    {
     "name": "stdout",
     "output_type": "stream",
     "text": [
      "Power_divergenceResult(statistic=327.4366706875754, pvalue=3.4760851653738244e-73)\n",
      "Power_divergenceResult(statistic=506.6666666666667, pvalue=3.368659961081157e-112)\n",
      "Power_divergenceResult(statistic=515.5210084033613, pvalue=3.9903763586286385e-114)\n",
      "Power_divergenceResult(statistic=101.62637362637362, pvalue=6.704665514800935e-24)\n",
      "Power_divergenceResult(statistic=134.75412844036697, pvalue=3.7369446877800325e-31)\n",
      "Power_divergenceResult(statistic=8.180048661800486, pvalue=0.004235362395417421)\n"
     ]
    }
   ],
   "execution_count": 65
  },
  {
   "metadata": {
    "ExecuteTime": {
     "end_time": "2024-07-23T19:38:32.073331Z",
     "start_time": "2024-07-23T19:38:32.060959Z"
    }
   },
   "cell_type": "code",
   "source": [
    "from scipy.stats import chi2_contingency\n",
    "import pandas as pd\n",
    "import numpy as np\n",
    "\n",
    "pronoun_counts = pd.DataFrame(\n",
    "    [\n",
    "        [2655, 950],\n",
    "        [1490, 190]\n",
    "    ],\n",
    "    index=[\"Male\",\"Female\"],\n",
    "    columns=[\"Subject\",\"Object\"])\n",
    "print(pronoun_counts)\n",
    "\n",
    "test = chi2_contingency(pronoun_counts)\n",
    "\n",
    "chi_squared_test_statistic = test[0]\n",
    "p_value = test[1]\n",
    "expected_counts = test[3]\n",
    "\n",
    "print(p_value)"
   ],
   "id": "43d57f6b71ecb9c4",
   "outputs": [
    {
     "name": "stdout",
     "output_type": "stream",
     "text": [
      "        Subject  Object\n",
      "Male       2655     950\n",
      "Female     1490     190\n",
      "5.201498185610243e-35\n"
     ]
    }
   ],
   "execution_count": 26
  },
  {
   "metadata": {
    "ExecuteTime": {
     "end_time": "2024-07-25T20:32:24.495627Z",
     "start_time": "2024-07-25T20:32:24.391649Z"
    }
   },
   "cell_type": "code",
   "source": [
    "from scipy.stats import chi2_contingency\n",
    "import pandas as pd\n",
    "import numpy as np\n",
    "\n",
    "tshirts = pd.DataFrame(\n",
    "    [\n",
    "        [2655, 950, 2250],\n",
    "        [1490, 190, 963]\n",
    "    ],\n",
    "    index=[\"Masculine\",\"Feminine\"],\n",
    "    columns=[\"Subject\",\"Object\", \"Possessive\"])\n",
    "print(tshirts)\n",
    "\n",
    "test = chi2_contingency(tshirts)\n",
    "\n",
    "chi_squared_test_statistic = test[0]\n",
    "p_value = test[1]\n",
    "expected_counts = test[3]\n",
    "\n",
    "#print(p_value)"
   ],
   "id": "29888babd92d927b",
   "outputs": [
    {
     "name": "stdout",
     "output_type": "stream",
     "text": [
      "           Subject  Object  Possessive\n",
      "Masculine     2655     950        2250\n",
      "Feminine      1490     190         963\n",
      "4.4876836471317514e-35\n"
     ]
    }
   ],
   "execution_count": 64
  },
  {
   "metadata": {
    "ExecuteTime": {
     "end_time": "2024-07-24T23:53:31.323799Z",
     "start_time": "2024-07-24T23:53:31.318751Z"
    }
   },
   "cell_type": "code",
   "source": [
    "# Import pandas library\n",
    "import pandas as pd\n",
    "\n",
    "# initialize list of lists\n",
    "data = [['feminine', 1490, 190, 963, 615, 137, 452], ['masculine', 2655, 950, 2250, 1023, 408, 370]]\n",
    "\n",
    "# Create the pandas DataFrame\n",
    "df = pd.DataFrame(data, columns=['gender', 'Subject-Dune', 'Object-Dune', 'Possessive-Dune', 'Subject-Parable', 'Object-Parable', 'Possessive-Parable'])\n",
    "\n",
    "data1 = [['Dune', 2655, 1490, 950, 190, 2250, 963], ['Parable of The Sower', 1023, 615, 408, 137, 370, 452]]\n",
    "# print dataframe.\n",
    "\n",
    "df1 = pd.DataFrame(data1, columns=['book', 'm-subject', 'f-subject', 'm-object', 'f-object', 'm-possessive', 'f-possessive'])\n",
    "\n",
    "\n",
    "dune = [['feminine', 'subject', 1490, .36],\n",
    "         ['masculine', 'subject', 2655, .64],\n",
    "         ['feminine', 'object', 190, .17],\n",
    "         ['masculine', 'object', 950, .83],\n",
    "         ['feminine', 'possessive', 963, .30],\n",
    "         ['masculine', 'possessive', 2250, .70],\n",
    "         ]\n",
    "\n",
    "dune_df = pd.DataFrame(dune, columns=['gender', 'pronoun-type', 'count', 'percent'])\n",
    "\n",
    "\n",
    "parable = [['feminine', 'subject', 615, .38],\n",
    "         ['masculine', 'subject', 1023, .62],\n",
    "         ['feminine', 'object', 137, .25],\n",
    "         ['masculine', 'object', 408, .75],\n",
    "         ['feminine', 'possessive', 452, .55],\n",
    "         ['masculine', 'possessive', 370, .45],\n",
    "         ]\n",
    "\n",
    "parable_df = pd.DataFrame(parable, columns=['gender', 'pronoun-type', 'count', 'percent'])\n"
   ],
   "id": "cff64cde6d7e019f",
   "outputs": [],
   "execution_count": 54
  },
  {
   "metadata": {
    "ExecuteTime": {
     "end_time": "2024-07-24T23:49:16.973112Z",
     "start_time": "2024-07-24T23:49:16.962576Z"
    }
   },
   "cell_type": "code",
   "source": "parable_df.groupby('pronoun-type')['count'].sum()",
   "id": "b8c06eb20eb4e768",
   "outputs": [
    {
     "data": {
      "text/plain": [
       "pronoun-type\n",
       "object         545\n",
       "possessive     822\n",
       "subject       1638\n",
       "Name: count, dtype: int64"
      ]
     },
     "execution_count": 50,
     "metadata": {},
     "output_type": "execute_result"
    }
   ],
   "execution_count": 50
  },
  {
   "metadata": {
    "ExecuteTime": {
     "end_time": "2024-07-24T23:59:46.800176Z",
     "start_time": "2024-07-24T23:59:46.680758Z"
    }
   },
   "cell_type": "code",
   "source": [
    "import seaborn as sns\n",
    "#sns_plot_dune_count = sns.barplot(data=dune_df, x='pronoun-type', y='count', hue='gender')\n",
    "#sns_plot_dune_count.figure.savefig('dune_count.png')\n",
    "sns_plot_dune_perc = sns.barplot(data=dune_df, x='pronoun-type', y='percent', hue='gender')\n",
    "sns_plot_dune_perc.figure.savefig('dune_perc.png')"
   ],
   "id": "fb952011cbc76d96",
   "outputs": [
    {
     "data": {
      "text/plain": [
       "<Figure size 640x480 with 1 Axes>"
      ],
      "image/png": "[encoded data removed]"
     },
     "metadata": {},
     "output_type": "display_data"
    }
   ],
   "execution_count": 60
  },
  {
   "metadata": {
    "ExecuteTime": {
     "end_time": "2024-07-25T00:04:58.559868Z",
     "start_time": "2024-07-25T00:04:58.458720Z"
    }
   },
   "cell_type": "code",
   "source": [
    "sns_plot_parable_perc = sns.barplot(data=parable_df, x='pronoun-type', y='percent', hue='gender')\n",
    "sns_plot_parable_perc.figure.savefig('parable_perc.png')"
   ],
   "id": "9fe10db5b576b2ae",
   "outputs": [
    {
     "data": {
      "text/plain": [
       "<Figure size 640x480 with 1 Axes>"
      ],
      "image/png": "[encoded data removed]"
     },
     "metadata": {},
     "output_type": "display_data"
    }
   ],
   "execution_count": 63
  },
  {
   "metadata": {},
   "cell_type": "code",
   "outputs": [],
   "execution_count": null,
   "source": "",
   "id": "a212556e068aadfa"
  }
 ],
 "metadata": {
  "kernelspec": {
   "display_name": "Python 3",
   "language": "python",
   "name": "python3"
  },
  "language_info": {
   "codemirror_mode": {
    "name": "ipython",
    "version": 2
   },
   "file_extension": ".py",
   "mimetype": "text/x-python",
   "name": "python",
   "nbconvert_exporter": "python",
   "pygments_lexer": "ipython2",
   "version": "2.7.6"
  }
 },
 "nbformat": 4,
 "nbformat_minor": 5
}
